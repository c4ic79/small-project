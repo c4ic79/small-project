{
 "cells": [
  {
   "cell_type": "code",
   "execution_count": 30,
   "metadata": {},
   "outputs": [],
   "source": [
    "import numpy as np\n",
    "import pandas as pd \n",
    "import seaborn as sns\n",
    "import matplotlib.pyplot as plt\n",
    "import scipy.stats as stats"
   ]
  },
  {
   "cell_type": "code",
   "execution_count": 31,
   "metadata": {},
   "outputs": [],
   "source": [
    "data=pd.read_csv('C://Users//Administrator//Desktop//ab테스트//cookie_cats.csv')"
   ]
  },
  {
   "cell_type": "code",
   "execution_count": 32,
   "metadata": {},
   "outputs": [
    {
     "data": {
      "text/html": [
       "<div>\n",
       "<style scoped>\n",
       "    .dataframe tbody tr th:only-of-type {\n",
       "        vertical-align: middle;\n",
       "    }\n",
       "\n",
       "    .dataframe tbody tr th {\n",
       "        vertical-align: top;\n",
       "    }\n",
       "\n",
       "    .dataframe thead th {\n",
       "        text-align: right;\n",
       "    }\n",
       "</style>\n",
       "<table border=\"1\" class=\"dataframe\">\n",
       "  <thead>\n",
       "    <tr style=\"text-align: right;\">\n",
       "      <th></th>\n",
       "      <th>userid</th>\n",
       "      <th>version</th>\n",
       "      <th>sum_gamerounds</th>\n",
       "      <th>retention_1</th>\n",
       "      <th>retention_7</th>\n",
       "    </tr>\n",
       "  </thead>\n",
       "  <tbody>\n",
       "    <tr>\n",
       "      <th>0</th>\n",
       "      <td>116</td>\n",
       "      <td>gate_30</td>\n",
       "      <td>3</td>\n",
       "      <td>False</td>\n",
       "      <td>False</td>\n",
       "    </tr>\n",
       "    <tr>\n",
       "      <th>1</th>\n",
       "      <td>337</td>\n",
       "      <td>gate_30</td>\n",
       "      <td>38</td>\n",
       "      <td>True</td>\n",
       "      <td>False</td>\n",
       "    </tr>\n",
       "    <tr>\n",
       "      <th>2</th>\n",
       "      <td>377</td>\n",
       "      <td>gate_40</td>\n",
       "      <td>165</td>\n",
       "      <td>True</td>\n",
       "      <td>False</td>\n",
       "    </tr>\n",
       "  </tbody>\n",
       "</table>\n",
       "</div>"
      ],
      "text/plain": [
       "   userid  version  sum_gamerounds  retention_1  retention_7\n",
       "0     116  gate_30               3        False        False\n",
       "1     337  gate_30              38         True        False\n",
       "2     377  gate_40             165         True        False"
      ]
     },
     "execution_count": 32,
     "metadata": {},
     "output_type": "execute_result"
    }
   ],
   "source": [
    "data.head(3)"
   ]
  },
  {
   "cell_type": "markdown",
   "metadata": {},
   "source": [
    "### 결측값 확인"
   ]
  },
  {
   "cell_type": "code",
   "execution_count": 33,
   "metadata": {},
   "outputs": [
    {
     "name": "stdout",
     "output_type": "stream",
     "text": [
      "userid            0\n",
      "version           0\n",
      "sum_gamerounds    0\n",
      "retention_1       0\n",
      "retention_7       0\n",
      "dtype: int64\n"
     ]
    }
   ],
   "source": [
    "print(data.isnull().sum())"
   ]
  },
  {
   "cell_type": "code",
   "execution_count": 34,
   "metadata": {},
   "outputs": [
    {
     "data": {
      "text/html": [
       "<div>\n",
       "<style scoped>\n",
       "    .dataframe tbody tr th:only-of-type {\n",
       "        vertical-align: middle;\n",
       "    }\n",
       "\n",
       "    .dataframe tbody tr th {\n",
       "        vertical-align: top;\n",
       "    }\n",
       "\n",
       "    .dataframe thead th {\n",
       "        text-align: right;\n",
       "    }\n",
       "</style>\n",
       "<table border=\"1\" class=\"dataframe\">\n",
       "  <thead>\n",
       "    <tr style=\"text-align: right;\">\n",
       "      <th></th>\n",
       "      <th>userid</th>\n",
       "      <th>version</th>\n",
       "      <th>sum_gamerounds</th>\n",
       "      <th>retention_1</th>\n",
       "      <th>retention_7</th>\n",
       "    </tr>\n",
       "  </thead>\n",
       "  <tbody>\n",
       "    <tr>\n",
       "      <th>0</th>\n",
       "      <td>116</td>\n",
       "      <td>gate_30</td>\n",
       "      <td>3</td>\n",
       "      <td>False</td>\n",
       "      <td>False</td>\n",
       "    </tr>\n",
       "    <tr>\n",
       "      <th>1</th>\n",
       "      <td>337</td>\n",
       "      <td>gate_30</td>\n",
       "      <td>38</td>\n",
       "      <td>True</td>\n",
       "      <td>False</td>\n",
       "    </tr>\n",
       "    <tr>\n",
       "      <th>2</th>\n",
       "      <td>377</td>\n",
       "      <td>gate_40</td>\n",
       "      <td>165</td>\n",
       "      <td>True</td>\n",
       "      <td>False</td>\n",
       "    </tr>\n",
       "  </tbody>\n",
       "</table>\n",
       "</div>"
      ],
      "text/plain": [
       "   userid  version  sum_gamerounds  retention_1  retention_7\n",
       "0     116  gate_30               3        False        False\n",
       "1     337  gate_30              38         True        False\n",
       "2     377  gate_40             165         True        False"
      ]
     },
     "execution_count": 34,
     "metadata": {},
     "output_type": "execute_result"
    }
   ],
   "source": [
    "data.head(3)"
   ]
  },
  {
   "cell_type": "code",
   "execution_count": 35,
   "metadata": {},
   "outputs": [
    {
     "data": {
      "text/html": [
       "<div>\n",
       "<style scoped>\n",
       "    .dataframe tbody tr th:only-of-type {\n",
       "        vertical-align: middle;\n",
       "    }\n",
       "\n",
       "    .dataframe tbody tr th {\n",
       "        vertical-align: top;\n",
       "    }\n",
       "\n",
       "    .dataframe thead th {\n",
       "        text-align: right;\n",
       "    }\n",
       "</style>\n",
       "<table border=\"1\" class=\"dataframe\">\n",
       "  <thead>\n",
       "    <tr style=\"text-align: right;\">\n",
       "      <th></th>\n",
       "      <th>count</th>\n",
       "      <th>mean</th>\n",
       "      <th>std</th>\n",
       "      <th>min</th>\n",
       "      <th>25%</th>\n",
       "      <th>50%</th>\n",
       "      <th>75%</th>\n",
       "      <th>max</th>\n",
       "    </tr>\n",
       "    <tr>\n",
       "      <th>version</th>\n",
       "      <th></th>\n",
       "      <th></th>\n",
       "      <th></th>\n",
       "      <th></th>\n",
       "      <th></th>\n",
       "      <th></th>\n",
       "      <th></th>\n",
       "      <th></th>\n",
       "    </tr>\n",
       "  </thead>\n",
       "  <tbody>\n",
       "    <tr>\n",
       "      <th>gate_30</th>\n",
       "      <td>44700.0</td>\n",
       "      <td>52.456264</td>\n",
       "      <td>256.716423</td>\n",
       "      <td>0.0</td>\n",
       "      <td>5.0</td>\n",
       "      <td>17.0</td>\n",
       "      <td>50.0</td>\n",
       "      <td>49854.0</td>\n",
       "    </tr>\n",
       "    <tr>\n",
       "      <th>gate_40</th>\n",
       "      <td>45489.0</td>\n",
       "      <td>51.298776</td>\n",
       "      <td>103.294416</td>\n",
       "      <td>0.0</td>\n",
       "      <td>5.0</td>\n",
       "      <td>16.0</td>\n",
       "      <td>52.0</td>\n",
       "      <td>2640.0</td>\n",
       "    </tr>\n",
       "  </tbody>\n",
       "</table>\n",
       "</div>"
      ],
      "text/plain": [
       "           count       mean         std  min  25%   50%   75%      max\n",
       "version                                                               \n",
       "gate_30  44700.0  52.456264  256.716423  0.0  5.0  17.0  50.0  49854.0\n",
       "gate_40  45489.0  51.298776  103.294416  0.0  5.0  16.0  52.0   2640.0"
      ]
     },
     "execution_count": 35,
     "metadata": {},
     "output_type": "execute_result"
    }
   ],
   "source": [
    "data.groupby('version').sum_gamerounds.describe()"
   ]
  },
  {
   "cell_type": "markdown",
   "metadata": {},
   "source": [
    "gate_30에 3사분위수값이 50이지만 최대값은 49854로 아주 큰 차이가 난다. 이상치를 제거할 필요성이 있다."
   ]
  },
  {
   "cell_type": "code",
   "execution_count": 36,
   "metadata": {},
   "outputs": [
    {
     "data": {
      "text/plain": [
       "Text(0.5, 1.0, 'Distribution of Gate 40 (test group)')"
      ]
     },
     "execution_count": 36,
     "metadata": {},
     "output_type": "execute_result"
    },
    {
     "data": {
      "image/png": "[encoded data removed]",
      "text/plain": [
       "<Figure size 1080x360 with 2 Axes>"
      ]
     },
     "metadata": {
      "needs_background": "light"
     },
     "output_type": "display_data"
    }
   ],
   "source": [
    "fig,axes=plt.subplots(1,2,figsize=(15,5))\n",
    "data[data['version']=='gate_30'].hist('sum_gamerounds',ax=axes[0])\n",
    "data[data['version']=='gate_40'].hist('sum_gamerounds',ax=axes[1])\n",
    "\n",
    "axes[0].set_title(\"Distribution of Gate 30 (control group)\", fontsize = 15)\n",
    "axes[1].set_title(\"Distribution of Gate 40 (test group)\", fontsize = 15)"
   ]
  },
  {
   "cell_type": "markdown",
   "metadata": {},
   "source": [
    " 커널밀도추정"
   ]
  },
  {
   "cell_type": "code",
   "execution_count": 37,
   "metadata": {},
   "outputs": [
    {
     "data": {
      "text/plain": [
       "<AxesSubplot:xlabel='sum_gamerounds', ylabel='Density'>"
      ]
     },
     "execution_count": 37,
     "metadata": {},
     "output_type": "execute_result"
    },
    {
     "data": {
      "image/png": "[encoded data removed]",
      "text/plain": [
       "<Figure size 720x576 with 1 Axes>"
      ]
     },
     "metadata": {
      "needs_background": "light"
     },
     "output_type": "display_data"
    }
   ],
   "source": [
    "fig, ax = plt.subplots(figsize = (10, 8))\n",
    "sns.kdeplot(data = data, x = 'sum_gamerounds', ax = ax, hue = 'version', alpha = 0.2, fill = True)\n"
   ]
  },
  {
   "cell_type": "markdown",
   "metadata": {},
   "source": [
    "두 그룹간 분포의 차이가 크게 나타난다. "
   ]
  },
  {
   "cell_type": "markdown",
   "metadata": {},
   "source": [
    "이상치 제거"
   ]
  },
  {
   "cell_type": "code",
   "execution_count": 38,
   "metadata": {},
   "outputs": [
    {
     "data": {
      "text/plain": [
       "57702    49854\n",
       "7912      2961\n",
       "29417     2640\n",
       "43671     2438\n",
       "48188     2294\n",
       "46344     2251\n",
       "87007     2156\n",
       "36933     2124\n",
       "88328     2063\n",
       "6536      2015\n",
       "Name: sum_gamerounds, dtype: int64"
      ]
     },
     "execution_count": 38,
     "metadata": {},
     "output_type": "execute_result"
    }
   ],
   "source": [
    "data['sum_gamerounds'].sort_values(ascending=False).head(10)"
   ]
  },
  {
   "cell_type": "code",
   "execution_count": 39,
   "metadata": {},
   "outputs": [
    {
     "name": "stdout",
     "output_type": "stream",
     "text": [
      "5.0 51.0\n"
     ]
    }
   ],
   "source": [
    "q1_gr=data['sum_gamerounds'].quantile(q=0.25)\n",
    "q3_gr=data['sum_gamerounds'].quantile(q=0.75)\n",
    "print(q1_gr,q3_gr)"
   ]
  },
  {
   "cell_type": "code",
   "execution_count": 40,
   "metadata": {},
   "outputs": [
    {
     "name": "stdout",
     "output_type": "stream",
     "text": [
      "이상치 제거 전 :  90189\n",
      "이상치 제거 후 :  90170\n"
     ]
    }
   ],
   "source": [
    "print(f\"이상치 제거 전 :  {data.shape[0]}\")\n",
    "data=data[data.sum_gamerounds<1600]\n",
    "print(f\"이상치 제거 후 :  {data.shape[0]}\")"
   ]
  },
  {
   "cell_type": "code",
   "execution_count": 13,
   "metadata": {},
   "outputs": [
    {
     "data": {
      "text/plain": [
       "<AxesSubplot:xlabel='sum_gamerounds', ylabel='Density'>"
      ]
     },
     "execution_count": 13,
     "metadata": {},
     "output_type": "execute_result"
    },
    {
     "data": {
      "image/png": "[encoded data removed]",
      "text/plain": [
       "<Figure size 720x576 with 1 Axes>"
      ]
     },
     "metadata": {
      "needs_background": "light"
     },
     "output_type": "display_data"
    }
   ],
   "source": [
    "fig, ax = plt.subplots(figsize = (10, 8))\n",
    "sns.kdeplot(data = data, x = 'sum_gamerounds', ax = ax, hue = 'version', alpha = 0.2, fill = True)\n"
   ]
  },
  {
   "cell_type": "markdown",
   "metadata": {},
   "source": [
    "두 그룹의 분포가 비슷해졌다"
   ]
  },
  {
   "cell_type": "code",
   "execution_count": 41,
   "metadata": {},
   "outputs": [
    {
     "data": {
      "text/plain": [
       "<AxesSubplot:ylabel='sum_gamerounds'>"
      ]
     },
     "execution_count": 41,
     "metadata": {},
     "output_type": "execute_result"
    },
    {
     "data": {
      "image/png": "[encoded data removed]",
      "text/plain": [
       "<Figure size 720x576 with 1 Axes>"
      ]
     },
     "metadata": {
      "needs_background": "light"
     },
     "output_type": "display_data"
    }
   ],
   "source": [
    "fig, ax = plt.subplots(figsize = (10, 8))\n",
    "sns.boxplot(data = data, y = \"sum_gamerounds\", hue = \"version\",  x = [\"\"] * len(data))"
   ]
  },
  {
   "cell_type": "code",
   "execution_count": 15,
   "metadata": {},
   "outputs": [
    {
     "name": "stdout",
     "output_type": "stream",
     "text": [
      "sum_gamerounds\n",
      "0     3994\n",
      "1     5538\n",
      "2     4606\n",
      "3     3958\n",
      "4     3629\n",
      "5     2992\n",
      "6     2861\n",
      "7     2379\n",
      "8     2267\n",
      "9     2013\n",
      "10    1752\n",
      "11    1654\n",
      "12    1570\n",
      "13    1594\n",
      "14    1519\n",
      "15    1446\n",
      "16    1342\n",
      "17    1269\n",
      "18    1228\n",
      "19    1158\n",
      "Name: userid, dtype: int64\n",
      "50.9265942109349\n"
     ]
    }
   ],
   "source": [
    "print(data.groupby(\"sum_gamerounds\").userid.count().head(20))\n",
    "\n",
    "print(data['sum_gamerounds'].mean())"
   ]
  },
  {
   "cell_type": "code",
   "execution_count": 16,
   "metadata": {},
   "outputs": [
    {
     "name": "stdout",
     "output_type": "stream",
     "text": [
      "sum_gamerounds\n",
      "30    642\n",
      "40    505\n",
      "Name: userid, dtype: int64\n"
     ]
    }
   ],
   "source": [
    "print(data.groupby('sum_gamerounds').userid.count().loc[[30,40]])"
   ]
  },
  {
   "cell_type": "code",
   "execution_count": 17,
   "metadata": {},
   "outputs": [
    {
     "data": {
      "text/plain": [
       "Text(0.5, 1.0, 'first 150 game rounds')"
      ]
     },
     "execution_count": 17,
     "metadata": {},
     "output_type": "execute_result"
    },
    {
     "data": {
      "image/png": "[encoded data removed]",
      "text/plain": [
       "<Figure size 1080x720 with 2 Axes>"
      ]
     },
     "metadata": {
      "needs_background": "light"
     },
     "output_type": "display_data"
    }
   ],
   "source": [
    "fig, axes = plt.subplots(2, 1, figsize = (15,10))\n",
    "data.groupby(\"sum_gamerounds\").userid.count().plot(ax = axes[0])\n",
    "data.groupby(\"sum_gamerounds\").userid.count()[:150].plot(ax = axes[1])\n",
    "plt.suptitle(\"number of users played game\",fontsize = 15)\n",
    "axes[0].set_title(\"all game rounds\", fontsize = 10)\n",
    "axes[1].set_title(\"first 150 game rounds\", fontsize = 10)"
   ]
  },
  {
   "cell_type": "markdown",
   "metadata": {},
   "source": [
    "#### 게임을 설치했지만 1판도 실행하지 않은 유저들이 3994명이다.\n",
    "#### 30level까지 진행한 유저는 642명, 40level까지 진행한 유저는 505명이다.\n",
    "#### 판 수가 진행될수록 유저들이 감소하고 있다."
   ]
  },
  {
   "cell_type": "markdown",
   "metadata": {},
   "source": [
    "## 리텐션 "
   ]
  },
  {
   "cell_type": "code",
   "execution_count": 18,
   "metadata": {
    "scrolled": false
   },
   "outputs": [
    {
     "data": {
      "text/html": [
       "<div>\n",
       "<style scoped>\n",
       "    .dataframe tbody tr th:only-of-type {\n",
       "        vertical-align: middle;\n",
       "    }\n",
       "\n",
       "    .dataframe tbody tr th {\n",
       "        vertical-align: top;\n",
       "    }\n",
       "\n",
       "    .dataframe thead th {\n",
       "        text-align: right;\n",
       "    }\n",
       "</style>\n",
       "<table border=\"1\" class=\"dataframe\">\n",
       "  <thead>\n",
       "    <tr style=\"text-align: right;\">\n",
       "      <th></th>\n",
       "      <th>retention_1day_count</th>\n",
       "      <th>retention_7day_count</th>\n",
       "      <th>retention_1day_ratio</th>\n",
       "      <th>retention_7day_ratio</th>\n",
       "    </tr>\n",
       "  </thead>\n",
       "  <tbody>\n",
       "    <tr>\n",
       "      <th>False</th>\n",
       "      <td>50035</td>\n",
       "      <td>73407</td>\n",
       "      <td>0.554896</td>\n",
       "      <td>0.814096</td>\n",
       "    </tr>\n",
       "    <tr>\n",
       "      <th>True</th>\n",
       "      <td>40135</td>\n",
       "      <td>16763</td>\n",
       "      <td>0.445104</td>\n",
       "      <td>0.185904</td>\n",
       "    </tr>\n",
       "  </tbody>\n",
       "</table>\n",
       "</div>"
      ],
      "text/plain": [
       "       retention_1day_count  retention_7day_count  retention_1day_ratio  \\\n",
       "False                 50035                 73407              0.554896   \n",
       "True                  40135                 16763              0.445104   \n",
       "\n",
       "       retention_7day_ratio  \n",
       "False              0.814096  \n",
       "True               0.185904  "
      ]
     },
     "execution_count": 18,
     "metadata": {},
     "output_type": "execute_result"
    }
   ],
   "source": [
    "pd.DataFrame({'retention_1day_count':data['retention_1'].value_counts(),'retention_7day_count':data['retention_7'].value_counts(),\n",
    "             'retention_1day_ratio':data['retention_1'].value_counts()/len(data),\n",
    "             'retention_7day_ratio':data['retention_7'].value_counts()/len(data)})"
   ]
  },
  {
   "cell_type": "markdown",
   "metadata": {},
   "source": [
    "### 게임 설치 후 1일 뒤에도 약 45%의 유저가 플레이하였고, 1주일 뒤에는 19%의 유저가 플레이하였다"
   ]
  },
  {
   "cell_type": "code",
   "execution_count": 19,
   "metadata": {
    "scrolled": true
   },
   "outputs": [
    {
     "data": {
      "text/html": [
       "<div>\n",
       "<style scoped>\n",
       "    .dataframe tbody tr th:only-of-type {\n",
       "        vertical-align: middle;\n",
       "    }\n",
       "\n",
       "    .dataframe tbody tr th {\n",
       "        vertical-align: top;\n",
       "    }\n",
       "\n",
       "    .dataframe thead th {\n",
       "        text-align: right;\n",
       "    }\n",
       "</style>\n",
       "<table border=\"1\" class=\"dataframe\">\n",
       "  <thead>\n",
       "    <tr style=\"text-align: right;\">\n",
       "      <th></th>\n",
       "      <th></th>\n",
       "      <th>count</th>\n",
       "      <th>mean</th>\n",
       "      <th>std</th>\n",
       "      <th>min</th>\n",
       "      <th>25%</th>\n",
       "      <th>50%</th>\n",
       "      <th>75%</th>\n",
       "      <th>max</th>\n",
       "    </tr>\n",
       "    <tr>\n",
       "      <th>version</th>\n",
       "      <th>retention</th>\n",
       "      <th></th>\n",
       "      <th></th>\n",
       "      <th></th>\n",
       "      <th></th>\n",
       "      <th></th>\n",
       "      <th></th>\n",
       "      <th></th>\n",
       "      <th></th>\n",
       "    </tr>\n",
       "  </thead>\n",
       "  <tbody>\n",
       "    <tr>\n",
       "      <th rowspan=\"4\" valign=\"top\">gate_30</th>\n",
       "      <th>False-False</th>\n",
       "      <td>22840.0</td>\n",
       "      <td>11.819746</td>\n",
       "      <td>21.642643</td>\n",
       "      <td>0.0</td>\n",
       "      <td>2.0</td>\n",
       "      <td>6.0</td>\n",
       "      <td>14.0</td>\n",
       "      <td>981.0</td>\n",
       "    </tr>\n",
       "    <tr>\n",
       "      <th>False-True</th>\n",
       "      <td>1825.0</td>\n",
       "      <td>73.169315</td>\n",
       "      <td>93.222330</td>\n",
       "      <td>0.0</td>\n",
       "      <td>19.0</td>\n",
       "      <td>43.0</td>\n",
       "      <td>89.0</td>\n",
       "      <td>1072.0</td>\n",
       "    </tr>\n",
       "    <tr>\n",
       "      <th>True-False</th>\n",
       "      <td>13358.0</td>\n",
       "      <td>49.694490</td>\n",
       "      <td>58.125396</td>\n",
       "      <td>0.0</td>\n",
       "      <td>16.0</td>\n",
       "      <td>33.0</td>\n",
       "      <td>60.0</td>\n",
       "      <td>918.0</td>\n",
       "    </tr>\n",
       "    <tr>\n",
       "      <th>True-True</th>\n",
       "      <td>6669.0</td>\n",
       "      <td>181.810466</td>\n",
       "      <td>178.061844</td>\n",
       "      <td>0.0</td>\n",
       "      <td>64.0</td>\n",
       "      <td>127.0</td>\n",
       "      <td>236.0</td>\n",
       "      <td>1544.0</td>\n",
       "    </tr>\n",
       "    <tr>\n",
       "      <th rowspan=\"4\" valign=\"top\">gate_40</th>\n",
       "      <th>False-False</th>\n",
       "      <td>23597.0</td>\n",
       "      <td>11.913294</td>\n",
       "      <td>20.901020</td>\n",
       "      <td>0.0</td>\n",
       "      <td>2.0</td>\n",
       "      <td>6.0</td>\n",
       "      <td>14.0</td>\n",
       "      <td>547.0</td>\n",
       "    </tr>\n",
       "    <tr>\n",
       "      <th>False-True</th>\n",
       "      <td>1773.0</td>\n",
       "      <td>75.261139</td>\n",
       "      <td>94.478048</td>\n",
       "      <td>0.0</td>\n",
       "      <td>19.0</td>\n",
       "      <td>47.0</td>\n",
       "      <td>98.0</td>\n",
       "      <td>1241.0</td>\n",
       "    </tr>\n",
       "    <tr>\n",
       "      <th>True-False</th>\n",
       "      <td>13612.0</td>\n",
       "      <td>49.835219</td>\n",
       "      <td>56.738060</td>\n",
       "      <td>0.0</td>\n",
       "      <td>16.0</td>\n",
       "      <td>32.0</td>\n",
       "      <td>63.0</td>\n",
       "      <td>1074.0</td>\n",
       "    </tr>\n",
       "    <tr>\n",
       "      <th>True-True</th>\n",
       "      <td>6496.0</td>\n",
       "      <td>187.704433</td>\n",
       "      <td>182.691551</td>\n",
       "      <td>0.0</td>\n",
       "      <td>69.0</td>\n",
       "      <td>133.0</td>\n",
       "      <td>242.0</td>\n",
       "      <td>1573.0</td>\n",
       "    </tr>\n",
       "  </tbody>\n",
       "</table>\n",
       "</div>"
      ],
      "text/plain": [
       "                       count        mean         std  min   25%    50%    75%  \\\n",
       "version retention                                                               \n",
       "gate_30 False-False  22840.0   11.819746   21.642643  0.0   2.0    6.0   14.0   \n",
       "        False-True    1825.0   73.169315   93.222330  0.0  19.0   43.0   89.0   \n",
       "        True-False   13358.0   49.694490   58.125396  0.0  16.0   33.0   60.0   \n",
       "        True-True     6669.0  181.810466  178.061844  0.0  64.0  127.0  236.0   \n",
       "gate_40 False-False  23597.0   11.913294   20.901020  0.0   2.0    6.0   14.0   \n",
       "        False-True    1773.0   75.261139   94.478048  0.0  19.0   47.0   98.0   \n",
       "        True-False   13612.0   49.835219   56.738060  0.0  16.0   32.0   63.0   \n",
       "        True-True     6496.0  187.704433  182.691551  0.0  69.0  133.0  242.0   \n",
       "\n",
       "                        max  \n",
       "version retention            \n",
       "gate_30 False-False   981.0  \n",
       "        False-True   1072.0  \n",
       "        True-False    918.0  \n",
       "        True-True    1544.0  \n",
       "gate_40 False-False   547.0  \n",
       "        False-True   1241.0  \n",
       "        True-False   1074.0  \n",
       "        True-True    1573.0  "
      ]
     },
     "execution_count": 19,
     "metadata": {},
     "output_type": "execute_result"
    }
   ],
   "source": [
    "data['retention']=list(map(lambda x,y:str(x)+\"-\"+str(y),data.retention_1,data.retention_7))\n",
    "data.groupby(['version','retention']).sum_gamerounds.describe()     "
   ]
  },
  {
   "cell_type": "code",
   "execution_count": 20,
   "metadata": {},
   "outputs": [
    {
     "data": {
      "text/html": [
       "<div>\n",
       "<style scoped>\n",
       "    .dataframe tbody tr th:only-of-type {\n",
       "        vertical-align: middle;\n",
       "    }\n",
       "\n",
       "    .dataframe tbody tr th {\n",
       "        vertical-align: top;\n",
       "    }\n",
       "\n",
       "    .dataframe thead th {\n",
       "        text-align: right;\n",
       "    }\n",
       "</style>\n",
       "<table border=\"1\" class=\"dataframe\">\n",
       "  <thead>\n",
       "    <tr style=\"text-align: right;\">\n",
       "      <th></th>\n",
       "      <th></th>\n",
       "      <th>retention</th>\n",
       "    </tr>\n",
       "    <tr>\n",
       "      <th>version</th>\n",
       "      <th>retention</th>\n",
       "      <th></th>\n",
       "    </tr>\n",
       "  </thead>\n",
       "  <tbody>\n",
       "    <tr>\n",
       "      <th rowspan=\"4\" valign=\"top\">gate_30</th>\n",
       "      <th>False-False</th>\n",
       "      <td>51.105343</td>\n",
       "    </tr>\n",
       "    <tr>\n",
       "      <th>True-False</th>\n",
       "      <td>29.889018</td>\n",
       "    </tr>\n",
       "    <tr>\n",
       "      <th>True-True</th>\n",
       "      <td>14.922134</td>\n",
       "    </tr>\n",
       "    <tr>\n",
       "      <th>False-True</th>\n",
       "      <td>4.083505</td>\n",
       "    </tr>\n",
       "    <tr>\n",
       "      <th rowspan=\"4\" valign=\"top\">gate_40</th>\n",
       "      <th>False-False</th>\n",
       "      <td>51.886627</td>\n",
       "    </tr>\n",
       "    <tr>\n",
       "      <th>True-False</th>\n",
       "      <td>29.930956</td>\n",
       "    </tr>\n",
       "    <tr>\n",
       "      <th>True-True</th>\n",
       "      <td>14.283830</td>\n",
       "    </tr>\n",
       "    <tr>\n",
       "      <th>False-True</th>\n",
       "      <td>3.898588</td>\n",
       "    </tr>\n",
       "  </tbody>\n",
       "</table>\n",
       "</div>"
      ],
      "text/plain": [
       "                     retention\n",
       "version retention             \n",
       "gate_30 False-False  51.105343\n",
       "        True-False   29.889018\n",
       "        True-True    14.922134\n",
       "        False-True    4.083505\n",
       "gate_40 False-False  51.886627\n",
       "        True-False   29.930956\n",
       "        True-True    14.283830\n",
       "        False-True    3.898588"
      ]
     },
     "execution_count": 20,
     "metadata": {},
     "output_type": "execute_result"
    }
   ],
   "source": [
    "pd.DataFrame(data.groupby('version').retention.value_counts() *100 /data.groupby('version').retention.count())"
   ]
  },
  {
   "cell_type": "markdown",
   "metadata": {},
   "source": [
    "#### 대조군(gate_30)에서 설치 후 하루 & 일주일 뒤 플레이한 유저는 gate_30 플레이 유저의 약 15% 정도로 확인되었다.\n",
    "##### 실험군(gate_40)에서 설치 후 하루 & 일주일 뒤 플레이한 유저는 gate_40 플레이 유저의 약 14% 정도로 대조군에 비해 0.6% 떨어진 수치이다"
   ]
  },
  {
   "cell_type": "markdown",
   "metadata": {},
   "source": [
    "### a /b test 수행"
   ]
  },
  {
   "cell_type": "markdown",
   "metadata": {},
   "source": [
    "#### 1) 정규성 확인하기(shapiro-wilk)\n",
    "##### H0 : sum_gamerounds가 정규분포를 따르며, 결과값은 False     (p-value > alpha)\n",
    "##### H1 : sum_gamerounds가 정규분포를 따르지않으며, 결과값은 True   (p-value < alpha)"
   ]
  },
  {
   "cell_type": "code",
   "execution_count": 22,
   "metadata": {},
   "outputs": [],
   "source": [
    "data['version']=np.where(data.version=='gate_30','a','b')\n",
    "group_a=data[data['version']=='a']['sum_gamerounds'] #대조군\n",
    "group_b=data[data['version']=='b']['sum_gamerounds'] #실험군"
   ]
  },
  {
   "cell_type": "code",
   "execution_count": 23,
   "metadata": {},
   "outputs": [
    {
     "name": "stdout",
     "output_type": "stream",
     "text": [
      "gate_30 Shapiro Test Statistic \t 0.51035\n",
      "p-value \t 0.0\n",
      "귀무가설을 기각->정규분포를 따르지 않는다\n",
      "gate_40 Shapiro Test Statistic \t 0.50674\n",
      "p-value \t 0.0\n",
      "귀무가설을 기각->정규분포를 따르지 않는다\n"
     ]
    },
    {
     "name": "stderr",
     "output_type": "stream",
     "text": [
      "C:\\ProgramData\\Anaconda3\\lib\\site-packages\\scipy\\stats\\_morestats.py:1816: UserWarning: p-value may not be accurate for N > 5000.\n",
      "  warnings.warn(\"p-value may not be accurate for N > 5000.\")\n"
     ]
    }
   ],
   "source": [
    "alpha=0.05\n",
    "statistic_a, pvalue_a = stats.shapiro(group_a)\n",
    "print(f\"gate_30 Shapiro Test Statistic \\t {round(statistic_a, 5)}\")\n",
    "print(f\"p-value \\t {pvalue_a}\")  \n",
    "\n",
    "if pvalue_a <= alpha:\n",
    "    print(\"귀무가설을 기각->정규분포를 따르지 않는다\")\n",
    "\n",
    "else :\n",
    "    print(\"귀무가설을 기각할 수 없다 -> 정규분포를 따른다. \")\n",
    "    \n",
    "    \n",
    "statistic_b, pvalue_b = stats.shapiro(group_b)\n",
    "print(f\"gate_40 Shapiro Test Statistic \\t {round(statistic_b, 5)}\")\n",
    "print(f\"p-value \\t {pvalue_b}\")  \n",
    "\n",
    "if pvalue_b <= alpha:\n",
    "    print(\"귀무가설을 기각->정규분포를 따르지 않는다\")\n",
    "\n",
    "else :\n",
    "    print(\"귀무가설을 기각할 수 없다 -> 정규분포를 따른다. \")\n",
    "\n"
   ]
  },
  {
   "cell_type": "markdown",
   "metadata": {},
   "source": [
    "#### 두 집단 모두 정규분포를 따르지 않으므로  Mann- Whitney U test를 수행한다\n",
    "#### 2) Mann Whitney U test\n",
    "##### H0 : 두 집단의 분포가 같다     (p-value > alpha) ->귀무가설 기각X\n",
    "##### H1 : 두 집단의 분포가 다르다   (p-value < alpha)-> 귀무가설 기각"
   ]
  },
  {
   "cell_type": "code",
   "execution_count": 24,
   "metadata": {},
   "outputs": [
    {
     "name": "stdout",
     "output_type": "stream",
     "text": [
      "Mann Whitney U test statistic is 1023967360.5\n",
      "p-value for Mann Whitney U is 0.048251160130628544\n",
      "귀무가설을 기각-> 두 집단은 차이가 있다\n"
     ]
    }
   ],
   "source": [
    "statistic, pvalue = stats.mannwhitneyu(group_a, group_b)\n",
    "\n",
    "print(f\"Mann Whitney U test statistic is {statistic.round(5)}\")\n",
    "print(f\"p-value for Mann Whitney U is {pvalue}\")\n",
    "    \n",
    "if pvalue <= alpha:\n",
    "    print('귀무가설을 기각-> 두 집단은 차이가 있다')\n",
    "else:\n",
    "    print(\"귀무가설을 기각할 수 없다-> 두 집단은 동일하다\")   "
   ]
  },
  {
   "cell_type": "code",
   "execution_count": 28,
   "metadata": {},
   "outputs": [
    {
     "name": "stdout",
     "output_type": "stream",
     "text": [
      "version\n",
      "a    0.448112\n",
      "b    0.442148\n",
      "Name: retention_1, dtype: float64\n",
      "version\n",
      "a    0.190056\n",
      "b    0.181824\n",
      "Name: retention_7, dtype: float64\n"
     ]
    }
   ],
   "source": [
    "print(data.groupby('version').retention_1.mean())\n",
    "print(data.groupby('version').retention_7.mean())"
   ]
  },
  {
   "cell_type": "code",
   "execution_count": 46,
   "metadata": {},
   "outputs": [
    {
     "data": {
      "text/html": [
       "<div>\n",
       "<style scoped>\n",
       "    .dataframe tbody tr th:only-of-type {\n",
       "        vertical-align: middle;\n",
       "    }\n",
       "\n",
       "    .dataframe tbody tr th {\n",
       "        vertical-align: top;\n",
       "    }\n",
       "\n",
       "    .dataframe thead th {\n",
       "        text-align: right;\n",
       "    }\n",
       "</style>\n",
       "<table border=\"1\" class=\"dataframe\">\n",
       "  <thead>\n",
       "    <tr style=\"text-align: right;\">\n",
       "      <th></th>\n",
       "      <th>userid</th>\n",
       "      <th>version</th>\n",
       "      <th>sum_gamerounds</th>\n",
       "      <th>retention_1</th>\n",
       "      <th>retention_7</th>\n",
       "    </tr>\n",
       "  </thead>\n",
       "  <tbody>\n",
       "    <tr>\n",
       "      <th>0</th>\n",
       "      <td>116</td>\n",
       "      <td>gate_30</td>\n",
       "      <td>3</td>\n",
       "      <td>False</td>\n",
       "      <td>False</td>\n",
       "    </tr>\n",
       "    <tr>\n",
       "      <th>1</th>\n",
       "      <td>337</td>\n",
       "      <td>gate_30</td>\n",
       "      <td>38</td>\n",
       "      <td>True</td>\n",
       "      <td>False</td>\n",
       "    </tr>\n",
       "    <tr>\n",
       "      <th>2</th>\n",
       "      <td>377</td>\n",
       "      <td>gate_40</td>\n",
       "      <td>165</td>\n",
       "      <td>True</td>\n",
       "      <td>False</td>\n",
       "    </tr>\n",
       "    <tr>\n",
       "      <th>3</th>\n",
       "      <td>483</td>\n",
       "      <td>gate_40</td>\n",
       "      <td>1</td>\n",
       "      <td>False</td>\n",
       "      <td>False</td>\n",
       "    </tr>\n",
       "    <tr>\n",
       "      <th>4</th>\n",
       "      <td>488</td>\n",
       "      <td>gate_40</td>\n",
       "      <td>179</td>\n",
       "      <td>True</td>\n",
       "      <td>True</td>\n",
       "    </tr>\n",
       "    <tr>\n",
       "      <th>...</th>\n",
       "      <td>...</td>\n",
       "      <td>...</td>\n",
       "      <td>...</td>\n",
       "      <td>...</td>\n",
       "      <td>...</td>\n",
       "    </tr>\n",
       "    <tr>\n",
       "      <th>90184</th>\n",
       "      <td>9999441</td>\n",
       "      <td>gate_40</td>\n",
       "      <td>97</td>\n",
       "      <td>True</td>\n",
       "      <td>False</td>\n",
       "    </tr>\n",
       "    <tr>\n",
       "      <th>90185</th>\n",
       "      <td>9999479</td>\n",
       "      <td>gate_40</td>\n",
       "      <td>30</td>\n",
       "      <td>False</td>\n",
       "      <td>False</td>\n",
       "    </tr>\n",
       "    <tr>\n",
       "      <th>90186</th>\n",
       "      <td>9999710</td>\n",
       "      <td>gate_30</td>\n",
       "      <td>28</td>\n",
       "      <td>True</td>\n",
       "      <td>False</td>\n",
       "    </tr>\n",
       "    <tr>\n",
       "      <th>90187</th>\n",
       "      <td>9999768</td>\n",
       "      <td>gate_40</td>\n",
       "      <td>51</td>\n",
       "      <td>True</td>\n",
       "      <td>False</td>\n",
       "    </tr>\n",
       "    <tr>\n",
       "      <th>90188</th>\n",
       "      <td>9999861</td>\n",
       "      <td>gate_40</td>\n",
       "      <td>16</td>\n",
       "      <td>False</td>\n",
       "      <td>False</td>\n",
       "    </tr>\n",
       "  </tbody>\n",
       "</table>\n",
       "<p>90170 rows × 5 columns</p>\n",
       "</div>"
      ],
      "text/plain": [
       "        userid  version  sum_gamerounds  retention_1  retention_7\n",
       "0          116  gate_30               3        False        False\n",
       "1          337  gate_30              38         True        False\n",
       "2          377  gate_40             165         True        False\n",
       "3          483  gate_40               1        False        False\n",
       "4          488  gate_40             179         True         True\n",
       "...        ...      ...             ...          ...          ...\n",
       "90184  9999441  gate_40              97         True        False\n",
       "90185  9999479  gate_40              30        False        False\n",
       "90186  9999710  gate_30              28         True        False\n",
       "90187  9999768  gate_40              51         True        False\n",
       "90188  9999861  gate_40              16        False        False\n",
       "\n",
       "[90170 rows x 5 columns]"
      ]
     },
     "execution_count": 46,
     "metadata": {},
     "output_type": "execute_result"
    }
   ],
   "source": [
    "data"
   ]
  },
  {
   "cell_type": "code",
   "execution_count": null,
   "metadata": {},
   "outputs": [],
   "source": []
  }
 ],
 "metadata": {
  "kernelspec": {
   "display_name": "Python 3",
   "language": "python",
   "name": "python3"
  },
  "language_info": {
   "codemirror_mode": {
    "name": "ipython",
    "version": 3
   },
   "file_extension": ".py",
   "mimetype": "text/x-python",
   "name": "python",
   "nbconvert_exporter": "python",
   "pygments_lexer": "ipython3",
   "version": "3.8.5"
  }
 },
 "nbformat": 4,
 "nbformat_minor": 4
}
