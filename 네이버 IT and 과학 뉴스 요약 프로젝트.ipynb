{
 "cells": [
  {
   "cell_type": "code",
   "execution_count": 16,
   "metadata": {
    "scrolled": true
   },
   "outputs": [
    {
     "name": "stdout",
     "output_type": "stream",
     "text": [
      "Requirement already satisfied: gensim==3.8.3 in c:\\programdata\\anaconda3\\lib\\site-packages (3.8.3)\n",
      "Requirement already satisfied: smart-open>=1.8.1 in c:\\programdata\\anaconda3\\lib\\site-packages (from gensim==3.8.3) (5.0.0)\n",
      "Requirement already satisfied: Cython==0.29.14 in c:\\programdata\\anaconda3\\lib\\site-packages (from gensim==3.8.3) (0.29.14)\n",
      "Requirement already satisfied: numpy>=1.11.3 in c:\\programdata\\anaconda3\\lib\\site-packages (from gensim==3.8.3) (1.19.5)\n",
      "Requirement already satisfied: six>=1.5.0 in c:\\programdata\\anaconda3\\lib\\site-packages (from gensim==3.8.3) (1.16.0)\n",
      "Requirement already satisfied: scipy>=0.18.1 in c:\\programdata\\anaconda3\\lib\\site-packages (from gensim==3.8.3) (1.5.2)\n"
     ]
    },
    {
     "name": "stderr",
     "output_type": "stream",
     "text": [
      "WARNING: Ignoring invalid distribution -pype1 (c:\\programdata\\anaconda3\\lib\\site-packages)\n",
      "WARNING: Ignoring invalid distribution -pype1 (c:\\programdata\\anaconda3\\lib\\site-packages)\n",
      "WARNING: Ignoring invalid distribution -pype1 (c:\\programdata\\anaconda3\\lib\\site-packages)\n",
      "WARNING: Ignoring invalid distribution -pype1 (c:\\programdata\\anaconda3\\lib\\site-packages)\n",
      "WARNING: Ignoring invalid distribution -pype1 (c:\\programdata\\anaconda3\\lib\\site-packages)\n",
      "WARNING: Ignoring invalid distribution -pype1 (c:\\programdata\\anaconda3\\lib\\site-packages)\n",
      "\n",
      "[notice] A new release of pip available: 22.3 -> 22.3.1\n",
      "[notice] To update, run: python.exe -m pip install --upgrade pip\n"
     ]
    },
    {
     "name": "stdout",
     "output_type": "stream",
     "text": [
      "Requirement already satisfied: BeautifulSoup4 in c:\\programdata\\anaconda3\\lib\\site-packages (4.6.0)\n",
      "Requirement already satisfied: lxml in c:\\programdata\\anaconda3\\lib\\site-packages (4.6.1)\n",
      "Requirement already satisfied: requests in c:\\programdata\\anaconda3\\lib\\site-packages (2.24.0)\n",
      "Requirement already satisfied: urllib3!=1.25.0,!=1.25.1,<1.26,>=1.21.1 in c:\\programdata\\anaconda3\\lib\\site-packages (from requests) (1.25.11)\n",
      "Requirement already satisfied: certifi>=2017.4.17 in c:\\programdata\\anaconda3\\lib\\site-packages (from requests) (2020.6.20)\n",
      "Requirement already satisfied: idna<3,>=2.5 in c:\\programdata\\anaconda3\\lib\\site-packages (from requests) (2.10)\n",
      "Requirement already satisfied: chardet<4,>=3.0.2 in c:\\programdata\\anaconda3\\lib\\site-packages (from requests) (3.0.4)\n"
     ]
    },
    {
     "name": "stderr",
     "output_type": "stream",
     "text": [
      "WARNING: Ignoring invalid distribution -pype1 (c:\\programdata\\anaconda3\\lib\\site-packages)\n",
      "WARNING: Ignoring invalid distribution -pype1 (c:\\programdata\\anaconda3\\lib\\site-packages)\n",
      "WARNING: Ignoring invalid distribution -pype1 (c:\\programdata\\anaconda3\\lib\\site-packages)\n",
      "WARNING: Ignoring invalid distribution -pype1 (c:\\programdata\\anaconda3\\lib\\site-packages)\n",
      "WARNING: Ignoring invalid distribution -pype1 (c:\\programdata\\anaconda3\\lib\\site-packages)\n",
      "WARNING: Ignoring invalid distribution -pype1 (c:\\programdata\\anaconda3\\lib\\site-packages)\n",
      "\n",
      "[notice] A new release of pip available: 22.3 -> 22.3.1\n",
      "[notice] To update, run: python.exe -m pip install --upgrade pip\n"
     ]
    }
   ],
   "source": [
    "!pip install gensim==3.8.3\n",
    "!pip install BeautifulSoup4 lxml requests"
   ]
  },
  {
   "cell_type": "code",
   "execution_count": 27,
   "metadata": {},
   "outputs": [],
   "source": [
    "import requests\n",
    "from bs4 import BeautifulSoup\n",
    "import bs4.element"
   ]
  },
  {
   "cell_type": "code",
   "execution_count": 26,
   "metadata": {},
   "outputs": [],
   "source": [
    "#beatifulsoup 객체생성\n",
    "def get_news_obj(url):\n",
    "    headers={'User-Agent':'Mozilla/5.0 (Windows NT 10.0; Win64; x64) AppleWebKit/537.36 (KHTML, like Gecko) Chrome/108.0.0.0 Safari/537.36'}\n",
    "    r=requests.get(url,headers=headers)\n",
    "    obj=BeautifulSoup(r.text,'lxml')\n",
    "    \n",
    "    return obj  "
   ]
  },
  {
   "cell_type": "code",
   "execution_count": 41,
   "metadata": {},
   "outputs": [
    {
     "name": "stdout",
     "output_type": "stream",
     "text": [
      "section url :  https://news.naver.com/main/list.nhn?mode=LSD&mid=sec&sid1=101\n"
     ]
    },
    {
     "data": {
      "text/plain": [
       "[{'제목': '“지금은 집 안 살래요”…고금리에 미국도 주택거래 ‘바닥’',\n",
       "  '시간': '2분전',\n",
       "  '뉴스_url': 'https://n.news.naver.com/mnews/article/009/0005078564?sid=101',\n",
       "  '이미지_url': 'https://imgnews.pstatic.net/image/origin/009/2023/01/24/5078564.jpg?type=nf106_72'},\n",
       " {'제목': '막바지 귀경길 원활한 흐름…부산→서울 4시간30분',\n",
       "  '시간': '3분전',\n",
       "  '뉴스_url': 'https://n.news.naver.com/mnews/article/018/0005411233?sid=101',\n",
       "  '이미지_url': 'https://imgnews.pstatic.net/image/origin/018/2023/01/24/5411233.jpg?type=nf106_72'},\n",
       " {'제목': '4억대 분양가 저렴… 내달 4일 동호 지정계약',\n",
       "  '시간': '4분전',\n",
       "  '뉴스_url': 'https://n.news.naver.com/mnews/article/005/0001581938?sid=101',\n",
       "  '이미지_url': 'https://imgnews.pstatic.net/image/origin/005/2023/01/24/1581938.jpg?type=nf106_72'},\n",
       " {'제목': '국내 첫 ‘스마트시티’… 모든 학군 도보권',\n",
       "  '시간': '4분전',\n",
       "  '뉴스_url': 'https://n.news.naver.com/mnews/article/005/0001581937?sid=101',\n",
       "  '이미지_url': 'https://imgnews.pstatic.net/image/origin/005/2023/01/24/1581937.jpg?type=nf106_72'},\n",
       " {'제목': '‘고등어 1번지’ 부산에 기부하면 답례품은 노르웨이산?',\n",
       "  '시간': '5분전',\n",
       "  '뉴스_url': 'https://n.news.naver.com/mnews/article/082/0001194796?sid=101',\n",
       "  '이미지_url': 'https://imgnews.pstatic.net/image/origin/082/2023/01/24/1194796.jpg?type=nf106_72'}]"
      ]
     },
     "execution_count": 41,
     "metadata": {},
     "output_type": "execute_result"
    }
   ],
   "source": [
    "#뉴스 정보 가져오기\n",
    "def get_top5_news(sec,sid):\n",
    "    #결과값을 찾지 못했을때의 이미지\n",
    "    default_img=\"https://search.naver.com/search.naver?where=image&sm=tab_jum&query=naver#\"\n",
    "    \n",
    "   #뉴스 목록주소\n",
    "    sec_url = \"https://news.naver.com/main/list.nhn?mode=LSD&mid=sec\" \\\n",
    "    + \"&sid1=\" \\\n",
    "    + sid \\\n",
    "             \n",
    "    print(\"section url : \", sec_url)    \n",
    "    \n",
    "    # 해당 분야 상위 뉴스 HTML 가져오기\n",
    "    obj=get_news_obj(sec_url)\n",
    "    \n",
    "    #분야의 상위뉴스 5개 가져오기\n",
    "    top5=[]\n",
    "    get5 = obj.find('ul', class_='type06_headline').find_all(\"li\", limit=5)\n",
    "    for i in get5:\n",
    "        # title : 뉴스 제목, news_url : 뉴스 URL, image_url : 이미지 URL\n",
    "        news_info = {\n",
    "            \"제목\" : i.img.attrs.get('alt') if i.img else i.a.text.replace(\"\\n\", \"\").replace(\"\\t\",\"\").replace(\"\\r\",\"\") ,\n",
    "            \"시간\" : i.find(class_=\"date\").text,\n",
    "            \"뉴스_url\" : i.a.attrs.get('href'),\n",
    "            \"이미지_url\" : i.img.attrs.get('src') if i.img else default_img\n",
    "        }\n",
    "        top5.append(news_info)\n",
    "    return top5\n",
    "\n",
    "get_top5_news(\"ECO\",\"101\")"
   ]
  },
  {
   "cell_type": "code",
   "execution_count": 30,
   "metadata": {},
   "outputs": [
    {
     "data": {
      "text/plain": [
       "'삼성전자와 애플이 스마트폰에 이어 노트북 시장에서도 한판 승부를 펼친다. 애플은 자체 칩셋을 적용한 맥북을 출시하며 국내 노트북 시장에서 점유율을 확장하고 있다. 이에 삼성은 최고급 사양인 \\'울트라\\'를 신규 라인업에 추가하고 인텔의 최신 CPU(중앙처리장치)를 장착한 \\'갤럭시북3\\'로 애플 추격에 맞대응한다. 24일 업계에 따르면 삼성전자는 내달 1일(현지시간) 미국 캘리포니아에서 열리는 \\'갤럭시언팩\\'에서 갤럭시북3 시리즈 공개한다. 이번에 공개될 시리즈는 갤럭시북3, 갤럭시북360, 갤럭시북3프로, 갤럭시북3프로360, 갤럭시북3 울트라로 추정된다. 특히 갤럭북3 울트라는 삼성전자가 처음 선보이는 라인업으로 갤럭시북3 시리즈의 최고 사양으로 출시될 것이 유력하다. 지금까지 업계와 외신을 통해 유출된 정보를 종합하면 갤럭시북3 시리즈의 CPU는 13세대 인텔 코어 i9-13900K 혹은 i9-13900H가 탑재된다. GPU(그래픽처리장치)는 엔비디아 RTX 3050 또는 RTX 4050으로 예상된다. 특히 13세대 코어 프로세서 중 플래그십 제품인 i9-13900K는 인텔이 지난해 9월 선보인 제품으로 역대 최고 성능을 자랑한다. 최대 24코어(P코어 8개, E코어 16개)로 32개 작업(스레드)을 동시에 처리할 수 있다. 지난해 9월 제품 공개 당시 팻 겔싱어 인텔 최고경영자(CEO)는 \"전 세계에서 가장 빠른 칩\"이라고 일컫기도 했다. 이 밖에 갤럭시북3 시리즈에는 15.6∼16인치 슈퍼 AMOLED(능동형유기발광다이오드) 디스플레이가 적용되며, 윈도 헬로 인증 시스템을 사용할 수 있는 웹캠과 고용량 배터리 등이 장착될 것으로 보인다. 외신도 갤럭시북3 시리즈에 대한 기대감이 크다. 샘모바일은 국내 IT 팁스터(정보유출자) \\'슬리피\\'를 인용하며 \"갤럭시북3 울트라는 애플의 맥북 프로와 맞설 수 있는 최고급 노트북\"이라고 평가했다. 이에 앞서 지난 17일 애플도 신형 노트북인 14·16인치 \\'맥북 프로\\' 신제품을 공개했다. 자사가 직접 개발한 신형 칩셋 \\'M2 프로·맥스\\'가 적용됐다. M 시리즈는 애플이 자체 개발한 맥북·아이패드용 시스템온칩(SoC)이다. M2 프로·맥스는 전작 대비 CPU 속도가 20% 빠르고, GPU 성능은 30% 개선됐다. 맥북 프로의 배터리 수명은 전작 대비 14인치의 경우 17시간에서 18시간으로, 16인치는 21시간에서 최대 22시간으로 한 시간씩 늘어났다. 애플은 또 새로운 맥북 프로에서 6㎓ 기반의 와이파이 6E가 탑재돼 더 빠른 무선 성능을 제공한다고 설명했다. 맥북 프로 신제품의 한국 가격은 저장용량과 칩셋 종류에 따라 14인치 모델이 279만~429만원, 16인치 모델은 349만~484만원이다. 국내 출시일은 정해지지 않았지만 내달 초로 예상된다. 업계에서는 삼성전자가 이번에 초프미리엄 라인업인 갤럭시북3 울트라를 추가하며 승부수를 띄웠다고 평가한다. 애플은 2020년 말 M1을 발표한 후 프리미엄 노트북 시장을 주도하고 있다. 이 전략은 맥 OS(운영체제)를 이용하는 데 상대적으로 불편함이 많은 한국 시장에서도 통하고 있다. 시장조사업체 한국IDC에 따르면 2021년 3분기 8.6％였던 애플 노트북의 국내 시장 점유율은 지난해 3분기 14.9％까지 급등했다. 삼성전자는 국내 노트북 시장 1위(33.2％)를 지켰지만 같은 기간 점유율이 6.9％포인트 감소했다. '"
      ]
     },
     "execution_count": 30,
     "metadata": {},
     "output_type": "execute_result"
    }
   ],
   "source": [
    "# 뉴스 본문 가져오기\n",
    "def get_news_contents(url):\n",
    "    soup = get_news_obj(url)\n",
    "    body = soup.find('div', class_=\"go_trans _article_content\")\n",
    "\n",
    "    news_contents = ''\n",
    "    for content in body:\n",
    "        if type(content) is bs4.element.NavigableString and len(content) > 50:\n",
    "            # 뉴스 요약을 위하여 '.' 마침표 뒤에 한칸을 띄워 문장을 구분하도록 함\n",
    "            news_contents += content.strip() + ' '\n",
    "    return news_contents\n",
    "\n",
    "\n",
    "get_news_contents('https://n.news.naver.com/mnews/article/008/0004843177?sid=105')"
   ]
  },
  {
   "cell_type": "code",
   "execution_count": 42,
   "metadata": {},
   "outputs": [
    {
     "name": "stdout",
     "output_type": "stream",
     "text": [
      "section url :  https://news.naver.com/main/list.nhn?mode=LSD&mid=sec&sid1=101\n",
      "section url :  https://news.naver.com/main/list.nhn?mode=LSD&mid=sec&sid1=105\n"
     ]
    },
    {
     "data": {
      "text/plain": [
       "{'제목': '“지금은 집 안 살래요”…고금리에 미국도 주택거래 ‘바닥’',\n",
       " '시간': '3분전',\n",
       " '뉴스_url': 'https://n.news.naver.com/mnews/article/009/0005078564?sid=101',\n",
       " '이미지_url': 'https://imgnews.pstatic.net/image/origin/009/2023/01/24/5078564.jpg?type=nf106_72',\n",
       " 'news_contents': '주택담보대출 금리 급등으로 지난달 미국 주택시장이 12년 만에 가장 위축된 것으로 나타났다. 미 중앙은행인 연방준비제도(Fed·연준)가 치솟는 물가를 잡기 위해 공격적으로 기준금리를 올리면서 주택담보대출 금리가 급등하며 주택 매수심리가 악화됐기 때문이다. 금리 인상 여파로 주택시장을 비롯한 미국 경제 전반이 침체될 조짐을 보이자 연준의 매파(통화긴축 선호) 성향 이사도 금리인상 속도 조절을 공개 지지했다. 다음달 1일 열리는 연방공개시장위원회(FOMC)에서 연준은 베이비스텝(기준금리 0.25%포인트 인상)을 밟으며 금리인상 속도 조절에 나설 것으로 관측된다. 미 부동산중개인협회(NAR)는 지난해 12월 기존주택 매매 건수가 전월보다 1.5%, 전년 동월보다 34% 각각 감소한 402만 건(연율)으로 집계됐다고 20일(현지시간) 밝혔다. 기존주택 매매건수는 11개월 연속 감소해 지난 1999년 통계 집계가 시작된 이후 최장기 감소세를 이어갔다. 지난달 매매 건수는 글로벌 금융위기의 충격에서 벗어나지 못했던 2010년 11월 이후 가장 적은 수치다 2022년 연간 총 매매 건수는 전년보다 17.8% 급감한 503만 건으로 2014년 이후 최저치를 기록했다. 블룸버그통신은 “전년 대비 감소폭이 2008년 이후 가장 컸다”면서 “연준의 공격적인 기준금리 인상으로 주택담보대출 금리가 20년 만에 최고 수준으로 치솟으며 잠재적 매수자들을 따돌렸다”고 전했다. 집값 하락세도 이어졌다. 지난달 거래된 기존주택 중위가격은 36만6900달러(약 4억5300만원)로 지난해 6월 역대 최고가(41만3800달러)를 찍은 이후 6개월 연속 하락했다. 전년 동월과 비교하면 12월 집값은 2.3% 올라 역대 최장기인 130개월 연속 상승세를 이어갔다. 작년 중반까지만 해도 두 자릿수대였던 오름폭은 크게 축소됐다. 로런스 윤 NAR 수석이코노미스트는 “12월은 한정된 매물과 높은 주택담보대출 금리로 매수자들에게 어려운 달이었다”면서 “다만 주택담보대출 금리가 작년 말 정점을 찍은 뒤 눈에 뛰게 내린 만큼 조만간 거래가 회복될 것으로 기대한다”고 말했다. 그는 “미국의 절반에 해당하는 지역에서 잠재적 매수자들에게 작년보다 할인된 가격을 제시하고 있다”며 주택가격이 추가로 내릴 가능성도 시사했다. 미국에서는 지난해 물가상승률이 40년 만에 최고치를 기록하자 물가를 안정시키기 위해 연준이 4차례 연속 자이언트 스텝(기준금리 0.75%포인트 인상)을 밟는 등 공격적인 금리 인상을 단행했다. 그 여파로 대출금리가 치솟자 잠재적 매수자들이 크게 줄어들며 주택시장 침체가 이어지고 있다. 주택담보대출업체인 프레디맥에 따르면 지난주 6.33%였던 30년 고정 모기지 금리는 이번주 6.15%로 내려왔으나, 1년 전(3.56%)과 비교하면 여전히 높은 수준이다. 기존주택 거래는 미 전체 주택시장 거래량의 90%를 차지한다. 나머지 10%가 신규주택 거래다. 경기 침체 우려가 확산하는 가운데 인플레이션은 최근 진정되는 분위기다. 지난해 7월 9.1%까지 치솟았던 미국 소비자물가지수(CPI) 상승률은 12월 13개월 만에 6%로 내려왔다. 이런 상황을 감안한듯 매파 성향의 크리스토퍼 월러 연준 이사도 금리인상 속도 조절을 공개 지지했다. 월러 이사는 이날 뉴욕에서 열린 미국외교협회(CFR) 행사 연설을 통해 “현재 데이터에 근거할 때 앞으로는 난기류가 별로 없어 보인다”면서 “지금으로서는 0.25%포인트를 선호한다”고 말했다. 이는 올해 첫 FOMC 정례회의에서 빅스텝 가능성에 쐐기를 박은 것으로 풀이된다. 연준은 지난해 1월 0.25%(상단 기준)이던 기준금리를 일곱차례에 걸쳐 4.5%까지 끌어올렸다. 4연속 자이언트스텝을 밟은 연준은 지난달 FOMC 정례회의에서 빅스텝(기준금리 0.5%포인트 인상)을 단행해 속도 조절에 나선 데 이어 2월에는 추가 감속할 것이 유력하다. 시카고상품거래소(CME) 페드워치에 따르면 기준금리 선물시장의 투자자들은 2월 0.25%포인트 인상 확률을 100%로 보고 있다. '}"
      ]
     },
     "execution_count": 42,
     "metadata": {},
     "output_type": "execute_result"
    }
   ],
   "source": [
    "# 경제, IT/과학 분야의 상위 5개 뉴스 크롤링\n",
    "def get_naver_news_top5():\n",
    "    # 뉴스 결과를 담아낼 dictionary\n",
    "    news_dic = dict()\n",
    "\n",
    "    # sections : 경제, IT/과학\n",
    "    sections = [\"ECO\",\"IT\"]\n",
    "    # section_ids: URL에 사용될 뉴스 부문 ID\n",
    "    section_ids = [\"101\",\"105\"]\n",
    "\n",
    "    for sec, sid in zip(sections, section_ids):\n",
    "        # 뉴스의 기본 정보 가져오기\n",
    "        news_info = get_top5_news(sec, sid)\n",
    "        #print(news_info)\n",
    "        for news in news_info:\n",
    "            # 뉴스 본문 가져오기\n",
    "            news_url = news['뉴스_url']\n",
    "            news_contents = get_news_contents(news_url)\n",
    "\n",
    "            news['news_contents'] = news_contents\n",
    "\n",
    "        news_dic[sec] = news_info\n",
    "\n",
    "    return news_dic\n",
    "\n",
    "#  상위 5개 뉴스 크롤링\n",
    "news_dic = get_naver_news_top5()\n",
    "# 첫번째 결과 확인하기\n",
    "news_dic['ECO'][0]"
   ]
  },
  {
   "cell_type": "code",
   "execution_count": 44,
   "metadata": {},
   "outputs": [
    {
     "name": "stdout",
     "output_type": "stream",
     "text": [
      "==== 첫번째 뉴스 원문 ====\n",
      "주택담보대출 금리 급등으로 지난달 미국 주택시장이 12년 만에 가장 위축된 것으로 나타났다. 미 중앙은행인 연방준비제도(Fed·연준)가 치솟는 물가를 잡기 위해 공격적으로 기준금리를 올리면서 주택담보대출 금리가 급등하며 주택 매수심리가 악화됐기 때문이다. 금리 인상 여파로 주택시장을 비롯한 미국 경제 전반이 침체될 조짐을 보이자 연준의 매파(통화긴축 선호) 성향 이사도 금리인상 속도 조절을 공개 지지했다. 다음달 1일 열리는 연방공개시장위원회(FOMC)에서 연준은 베이비스텝(기준금리 0.25%포인트 인상)을 밟으며 금리인상 속도 조절에 나설 것으로 관측된다. 미 부동산중개인협회(NAR)는 지난해 12월 기존주택 매매 건수가 전월보다 1.5%, 전년 동월보다 34% 각각 감소한 402만 건(연율)으로 집계됐다고 20일(현지시간) 밝혔다. 기존주택 매매건수는 11개월 연속 감소해 지난 1999년 통계 집계가 시작된 이후 최장기 감소세를 이어갔다. 지난달 매매 건수는 글로벌 금융위기의 충격에서 벗어나지 못했던 2010년 11월 이후 가장 적은 수치다 2022년 연간 총 매매 건수는 전년보다 17.8% 급감한 503만 건으로 2014년 이후 최저치를 기록했다. 블룸버그통신은 “전년 대비 감소폭이 2008년 이후 가장 컸다”면서 “연준의 공격적인 기준금리 인상으로 주택담보대출 금리가 20년 만에 최고 수준으로 치솟으며 잠재적 매수자들을 따돌렸다”고 전했다. 집값 하락세도 이어졌다. 지난달 거래된 기존주택 중위가격은 36만6900달러(약 4억5300만원)로 지난해 6월 역대 최고가(41만3800달러)를 찍은 이후 6개월 연속 하락했다. 전년 동월과 비교하면 12월 집값은 2.3% 올라 역대 최장기인 130개월 연속 상승세를 이어갔다. 작년 중반까지만 해도 두 자릿수대였던 오름폭은 크게 축소됐다. 로런스 윤 NAR 수석이코노미스트는 “12월은 한정된 매물과 높은 주택담보대출 금리로 매수자들에게 어려운 달이었다”면서 “다만 주택담보대출 금리가 작년 말 정점을 찍은 뒤 눈에 뛰게 내린 만큼 조만간 거래가 회복될 것으로 기대한다”고 말했다. 그는 “미국의 절반에 해당하는 지역에서 잠재적 매수자들에게 작년보다 할인된 가격을 제시하고 있다”며 주택가격이 추가로 내릴 가능성도 시사했다. 미국에서는 지난해 물가상승률이 40년 만에 최고치를 기록하자 물가를 안정시키기 위해 연준이 4차례 연속 자이언트 스텝(기준금리 0.75%포인트 인상)을 밟는 등 공격적인 금리 인상을 단행했다. 그 여파로 대출금리가 치솟자 잠재적 매수자들이 크게 줄어들며 주택시장 침체가 이어지고 있다. 주택담보대출업체인 프레디맥에 따르면 지난주 6.33%였던 30년 고정 모기지 금리는 이번주 6.15%로 내려왔으나, 1년 전(3.56%)과 비교하면 여전히 높은 수준이다. 기존주택 거래는 미 전체 주택시장 거래량의 90%를 차지한다. 나머지 10%가 신규주택 거래다. 경기 침체 우려가 확산하는 가운데 인플레이션은 최근 진정되는 분위기다. 지난해 7월 9.1%까지 치솟았던 미국 소비자물가지수(CPI) 상승률은 12월 13개월 만에 6%로 내려왔다. 이런 상황을 감안한듯 매파 성향의 크리스토퍼 월러 연준 이사도 금리인상 속도 조절을 공개 지지했다. 월러 이사는 이날 뉴욕에서 열린 미국외교협회(CFR) 행사 연설을 통해 “현재 데이터에 근거할 때 앞으로는 난기류가 별로 없어 보인다”면서 “지금으로서는 0.25%포인트를 선호한다”고 말했다. 이는 올해 첫 FOMC 정례회의에서 빅스텝 가능성에 쐐기를 박은 것으로 풀이된다. 연준은 지난해 1월 0.25%(상단 기준)이던 기준금리를 일곱차례에 걸쳐 4.5%까지 끌어올렸다. 4연속 자이언트스텝을 밟은 연준은 지난달 FOMC 정례회의에서 빅스텝(기준금리 0.5%포인트 인상)을 단행해 속도 조절에 나선 데 이어 2월에는 추가 감속할 것이 유력하다. 시카고상품거래소(CME) 페드워치에 따르면 기준금리 선물시장의 투자자들은 2월 0.25%포인트 인상 확률을 100%로 보고 있다. \n",
      "\n",
      "==== 첫번째 뉴스 요약문 ====\n",
      "다음달 1일 열리는 연방공개시장위원회(FOMC)에서 연준은 베이비스텝(기준금리 0.25%포인트 인상)을 밟으며 금리인상 속도 조절에 나설 것으로 관측된다.\n",
      "미국에서는 지난해 물가상승률이 40년 만에 최고치를 기록하자 물가를 안정시키기 위해 연준이 4차례 연속 자이언트 스텝(기준금리 0.75%포인트 인상)을 밟는 등 공격적인 금리 인상을 단행했다.\n",
      "4연속 자이언트스텝을 밟은 연준은 지난달 FOMC 정례회의에서 빅스텝(기준금리 0.5%포인트 인상)을 단행해 속도 조절에 나선 데 이어 2월에는 추가 감속할 것이 유력하다.\n",
      "\n",
      "==== 두번째 뉴스 원문 ====\n",
      "[이데일리 이준기 기자] 설 연휴 막바지 귀경길 정체가 풀리며 전국 고속도로 대부분이 원활한 흐름을 보이고 있다. 설 마지막 연휴인 24일 한국도로공사에 따르면 이날 서울 방향은 오후 3~4시 정체가 절정에 이르렀고 오후 10~1시 해소될 것으로 관측됐다. 지방 방향은 비교적 원활한 흐름을 보이고 있다. 이날 오후 8시 기준 경부고속도로 서울 방향은 남청주에서 남이분기점 7㎞ 구간 정체가 이어지고 있고 청주에서 옥산 부근 5㎞ 구간 속도를 내지 못하고 있다. 목천에서 천안분기점 4㎞ 구간도 정체에 있다. 오후 9시 요금소 기준 승용차를 이용한 주요 도시 간 예상 소요시간은 △서울~부산 4시간30분 △서울~대구 3시간30분 △서울~광주 3시간20분 △서울~대전 1시간30분 △서울~강릉 2시간40분 △서울~울산 4시간10분 △서울~목포 3시간40분이다. 상행선의 경우 △부산~서울 4시간30분 △대구~서울 3시간30분 △광주~서울 3시간20분 △대전~서울 1시간30분 △강릉~서울 2시간40분 △울산~서울 4시간10분 △목포~서울 3시간40분이다. \n",
      "\n",
      "==== 두번째 뉴스 요약문 ====\n",
      "[이데일리 이준기 기자] 설 연휴 막바지 귀경길 정체가 풀리며 전국 고속도로 대부분이 원활한 흐름을 보이고 있다.\n",
      "지방 방향은 비교적 원활한 흐름을 보이고 있다.\n",
      "상행선의 경우 △부산~서울 4시간30분 △대구~서울 3시간30분 △광주~서울 3시간20분 △대전~서울 1시간30분 △강릉~서울 2시간40분 △울산~서울 4시간10분 △목포~서울 3시간40분이다.\n",
      "\n",
      "==== 세번째 뉴스 원문 ====\n",
      "충청남도개발공사와 DL이앤씨 컨소시엄이 충남 아산시 탕정지구에 공급하는 ‘e편한세상 탕정 퍼스트드림( )’이 다음 달 4일 잔여세대에 대한 동호 지정계약을 진행한다. 동호 지정계약은 만 19세 이상이면 청약통장 유무, 거주지역, 주택 소유 여부 등에 관계 없이 계약 가능하다. 단지는 충남 아산시 배방읍 세교리 1605 일원의 아산탕정지구 2-A10 블록에 들어선다. 지하 2층~지상 최고 29층, 9개동에 전용면적 84㎡ 893가구로 조성된다. 발코니 확장 공사비가 281만~441만원으로 인근에서 분양한 신규 단지보다 저렴하게 책정됐다. 확장 공사비를 포함해도 전용면적 84㎡를 4억원 초반(펜트하우스 제외)에 분양받을 수 있다. 단지 바로 앞에 유치원과 초등학교 예정 부지가 자리잡고 있다. 중학교 예정 부지도 반경 300m 안에 있다. 천안아산역 주변 이마트 펜타포트점, 이마트 트레이더스, 갤러리아백화점, 모다아울렛 등의 대형 유통시설을 이용할 수 있다. 중심상업지구도 인근에 조성될 예정이다. 천안아산역(KTX·SRT)과 아산역(1호선·장항선), 탕정역(1호선)이 반경 2㎞ 안에 있다. 단지는 e편한세상의 프리미엄 조경 브랜드 ‘드포엠(dePoem)’을 적용한다. 드포엠의 대표 공간인 드포엠 파크는 축구장 규모의 대규모 공간으로 조성된다. 주택전시관은 충남 아산 배방읍 장재리 1714에서 운영 중이다. \n",
      "\n",
      "==== 세번째 뉴스 요약문 ====\n",
      "단지는 충남 아산시 배방읍 세교리 1605 일원의 아산탕정지구 2-A10 블록에 들어선다.\n",
      "지하 2층~지상 최고 29층, 9개동에 전용면적 84㎡ 893가구로 조성된다.\n",
      "확장 공사비를 포함해도 전용면적 84㎡를 4억원 초반(펜트하우스 제외)에 분양받을 수 있다.\n",
      "천안아산역 주변 이마트 펜타포트점, 이마트 트레이더스, 갤러리아백화점, 모다아울렛 등의 대형 유통시설을 이용할 수 있다.\n",
      "천안아산역(KTX·SRT)과 아산역(1호선·장항선), 탕정역(1호선)이 반경 2㎞ 안에 있다.\n",
      "\n",
      "==== 네번째 뉴스 원문 ====\n",
      ")’을 분양한다. 우미건설의 아파트 브랜드 ‘린’의 첫 부산 진출이다. 에코델타시티 푸르지오 린은 지하 1층~지상 21층에 14개동으로 구성된다. 전용면적 84~110㎡의 886가구 규모로 조성한다. 단지가 들어서는 에코델타시티는 부산 강서구 일대 11.7㎢ 부지에 들어서는 미래지향적 수변도시다. 올해 개발이 끝나면 3만여 가구, 약 7만6000명을 수용할 수 있다. 국내 첫 ‘스마트시티 국가시범도시’로 자율주행차, 인공지능 등 4차 산업혁명 관련 기술·서비스를 적용할 예정이다. ‘에코델타시티 푸르지오 린’이 위치한 27블록의 경우 모든 학군이 도보권에 있다. 단지 바로 앞에 중학교가 들어서고 유치원, 초등학교, 고등학교도 인근에 설치된다. 교통 인프라는 부전~마산 복선전철선을 공사 중이고, 하단~녹산 경량전철과 부산 도시철도 강서선이 계획돼 있다. 단지는 약 45%를 녹지로 조성한다. 수경시설과 잔디광장이 조화를 이룬 테마형 조경도 선보인다. 주차장은 일부 상가주차장을 제외하고 100% 지하화해 지상에 차가 다니지 않는 단지로 설계했다. 커뮤니티 시설은 실내 체육관(하프코트), 피트니스센터, 실내 골프연습장과 단지 내 카페, ‘다함께돌봄센터’, 작은 도서관 등이 들어선다. 견본주택은 부산 강서구 명지동 3597-1에 마련된다. \n",
      "\n",
      "==== 네번째 뉴스 요약문 ====\n",
      ")’을 분양한다.\n",
      "에코델타시티 푸르지오 린은 지하 1층~지상 21층에 14개동으로 구성된다.\n",
      "전용면적 84~110㎡의 886가구 규모로 조성한다.\n",
      "단지가 들어서는 에코델타시티는 부산 강서구 일대 11.7㎢ 부지에 들어서는 미래지향적 수변도시다.\n",
      "‘에코델타시티 푸르지오 린’이 위치한 27블록의 경우 모든 학군이 도보권에 있다.\n",
      "단지는 약 45%를 녹지로 조성한다.\n",
      "견본주택은 부산 강서구 명지동 3597-1에 마련된다.\n",
      "\n",
      "==== 다섯번째 뉴스 원문 ====\n",
      "국내 고등어의 80% 이상이 유통되는 부산 지역 고향사랑기부제 답례품으로 노르웨이산 고등어가 포함돼 지역 수산업계의 반발이 거세다. 지자체들은 납품업체가 부산 기업이라 상관없다는 입장이지만, 수입산 고등어 답례품은 지역홍보와 기부 활성화라는 고향사랑기부제의 취지와는 맞지 않는다는 목소리가 지역사회에서 나온다. 24일 부산시와 부산 사하구에 따르면 시와 사하구는 고향사랑기부제 답례품 중 하나로 고등어를 선정했다. 시는 3개 업체를 선정해 각 업체의 부산맛고등어, 부산고등어살, 노르웨이 고갈비·고등어살 상품을 답례품으로 정했다. 사하구도 노르웨이산과 국내산 고등어가 함께 포함된 제품을 답례품으로 결정했다. 해당 제품들은 고등어를 바로 조리해 먹을 수 있도록 손질한 가공제품이다. 생산업체는 모두 부산에 있지만, 제품에 사용된 고등어에 일부 노르웨이산이 포함됐다. 고향사랑기부제는 소멸 위기에 놓인 지역을 살리고 열악한 지방재정 확충을 유도하기 위해 올해부터 시행됐다. 기부자는 현재 주민등록 주소지 외 다른 지자체에 기부금을 내면 세액 공제 혜택과 기부액의 30% 범위로 마음에 드는 답례품을 받을 수 있다. 수산업계는 명실상부 고등어 1번지 도시인 부산에서 노르웨이 고등어가 기부 답례품으로 선정된 것을 이해할 수 없다는 입장이다. 부산에는 전국 고등어의 80% 이상이 유통되는 부산공동어시장이 있다. 부산의 대표 캐릭터가 고등어를 형상화한 ‘꼬등어’인 만큼 고등어는 부산을 상징하는 이미지 중 하나이고, 지역경제를 견인하는 부산 수산업계의 대표 어종이다. 부산 시어(市魚)도 고등어다. 각 지자체는 답례품 선정 기준에 지역기업이 생산한 제품이라는 규정만 있고, 원산지 규정은 없어 노르웨이산 고등어는 답례품으로 문제가 없다는 입장이다. 또 고등어 상품의 안정적인 수급을 위해서 수입품을 포함했다고도 설명했다. 부산시 자치분권과 관계자는 “광역시 단위인 부산에서는 다른 작은 규모의 지역에 비해 생산과 가공이 한 지역에서 동시에 이뤄지는 제품이 많지 않다”며 “명란 같은 경우도 우리나라 바다에서 아예 생산되지 않기 때문에 수입 명란을 가지고 가공만 하는 업체의 제품이 선정됐다”고 말했다. 이 관계자는 또 국내산과 달리 노르웨이산 고등어는 1년 내내 비교적 일정 수준 이상의 품질을 유지하기 때문에, 기부자들의 선택 폭을 넓히기 위해 수입품을 선택했다고도 덧붙였다. 사하구청 총무과 관계자도 “해당 답례품은 선정위원회를 통해 적법하게 선정됐다”며 “원산지보다는 지역업체를 선정하는 데 더 초점을 맞췄고, 기부제 목적이 지역의 영세한 업체를 살리는 데 있기도 하다”고 설명했다. 하지만 수산업계에서는 국내산 고등어의 수급이 답례품 수요를 소화하지 못할 정도는 아니라고 분석한다. 또 다른 답례품으로 선정된 어묵이나 명란처럼 원재료를 국내나 부산에서 구할 수 없는 상황도 아니기 때문에 지자체의 해명은 더욱 이해할 수 없다는 입장이다. 한 수산업계 관계자는 “고향사랑 기부제의 취지 자체가 상품 판매가 아니라 지역 홍보와 지역경제 활성화에 있다면 답례품은 당연히 부산 고등어를 선정해야 한다”며 “노르웨이 고등어가 국내보다 수급 상황이 안정적인 것은 맞지만, 국내 생산량이 그 수량을 소화하지 못하는 것은 아니다. 이런 수급 상황을 조사해 봤는지도 의문이다”고 말했다. 이런 지적에 대해 시 관계자는 “답례품 수요 상황에 따라 물품은 바뀔 수 있는 만큼 향후 상황을 지켜보겠다”고 말했다. \n",
      "\n",
      "==== 다섯번째 뉴스 요약문 ====\n",
      "국내 고등어의 80% 이상이 유통되는 부산 지역 고향사랑기부제 답례품으로 노르웨이산 고등어가 포함돼 지역 수산업계의 반발이 거세다.\n",
      "수산업계는 명실상부 고등어 1번지 도시인 부산에서 노르웨이 고등어가 기부 답례품으로 선정된 것을 이해할 수 없다는 입장이다.\n",
      "각 지자체는 답례품 선정 기준에 지역기업이 생산한 제품이라는 규정만 있고, 원산지 규정은 없어 노르웨이산 고등어는 답례품으로 문제가 없다는 입장이다.\n"
     ]
    }
   ],
   "source": [
    "#뉴스 요약하기\n",
    "\n",
    "from gensim.summarization.summarizer import summarize\n",
    "\n",
    "# 섹션 지정\n",
    "my_section = 'ECO'\n",
    "news_list3 = news_dic[my_section]\n",
    "# 뉴스 요약하기\n",
    "for news_info in news_list3:\n",
    "    \n",
    "    # 이때는 요약하지 않고 본문에서 앞 3문장을 사용함.\n",
    "    try:\n",
    "        sum_news = summarize(news_info['news_contents'], word_count=50) #50자로 요약\n",
    "    except:\n",
    "        sum_news = None\n",
    "\n",
    "    if not sum_news:\n",
    "        news_sentences = news_info['news_contents'].split('.')\n",
    "\n",
    "        if len(news_sentences) > 3:\n",
    "            sum_news = '.'.join(news_sentences[:3])\n",
    "        else:\n",
    "            sum_news = '.'.join(news_sentences)\n",
    "\n",
    "    news_info['sum_news'] = sum_news\n",
    "    \n",
    "## 요약 결과 - 첫번째 뉴스\n",
    "print(\"==== 첫번째 뉴스 원문 ====\")\n",
    "print(news_list3[0]['news_contents'])\n",
    "print(\"\\n==== 첫번째 뉴스 요약문 ====\")\n",
    "print(news_list3[0]['sum_news'])\n",
    "\n",
    "## 요약 결과 - 두번째 뉴스\n",
    "print(\"\\n==== 두번째 뉴스 원문 ====\")\n",
    "print(news_list3[1]['news_contents'])\n",
    "print(\"\\n==== 두번째 뉴스 요약문 ====\")\n",
    "print(news_list3[1]['sum_news'])\n",
    "\n",
    "## 요약 결과 - 세번째 뉴스\n",
    "print(\"\\n==== 세번째 뉴스 원문 ====\")\n",
    "print(news_list3[2]['news_contents'])\n",
    "print(\"\\n==== 세번째 뉴스 요약문 ====\")\n",
    "print(news_list3[2]['sum_news'])\n",
    "\n",
    "## 요약 결과 - 네번째 뉴스\n",
    "print(\"\\n==== 네번째 뉴스 원문 ====\")\n",
    "print(news_list3[3]['news_contents'])\n",
    "print(\"\\n==== 네번째 뉴스 요약문 ====\")\n",
    "print(news_list3[3]['sum_news'])\n",
    "\n",
    "## 요약 결과 - 다섯번째 뉴스\n",
    "print(\"\\n==== 다섯번째 뉴스 원문 ====\")\n",
    "print(news_list3[4]['news_contents'])\n",
    "print(\"\\n==== 다섯번째 뉴스 요약문 ====\")\n",
    "print(news_list3[4]['sum_news'])"
   ]
  },
  {
   "cell_type": "code",
   "execution_count": null,
   "metadata": {},
   "outputs": [],
   "source": []
  },
  {
   "cell_type": "code",
   "execution_count": null,
   "metadata": {},
   "outputs": [],
   "source": []
  },
  {
   "cell_type": "code",
   "execution_count": null,
   "metadata": {},
   "outputs": [],
   "source": []
  },
  {
   "cell_type": "code",
   "execution_count": null,
   "metadata": {},
   "outputs": [],
   "source": []
  },
  {
   "cell_type": "code",
   "execution_count": null,
   "metadata": {},
   "outputs": [],
   "source": [
    "\n"
   ]
  }
 ],
 "metadata": {
  "kernelspec": {
   "display_name": "Python 3",
   "language": "python",
   "name": "python3"
  },
  "language_info": {
   "codemirror_mode": {
    "name": "ipython",
    "version": 3
   },
   "file_extension": ".py",
   "mimetype": "text/x-python",
   "name": "python",
   "nbconvert_exporter": "python",
   "pygments_lexer": "ipython3",
   "version": "3.8.5"
  }
 },
 "nbformat": 4,
 "nbformat_minor": 4
}
